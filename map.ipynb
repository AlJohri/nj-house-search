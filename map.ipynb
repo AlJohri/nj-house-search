{
 "cells": [
  {
   "cell_type": "code",
   "execution_count": 1,
   "metadata": {},
   "outputs": [],
   "source": [
    "import html\n",
    "import folium\n",
    "import pandas as pd\n",
    "from geolocate import geocode"
   ]
  },
  {
   "cell_type": "code",
   "execution_count": 2,
   "metadata": {},
   "outputs": [],
   "source": [
    "get_loc = lambda x: (x[0]['geometry']['location']['lat'], x[0]['geometry']['location']['lng'],)\n",
    "\n",
    "df = pd.read_excel('listings.xlsx')\n",
    "listings = df.to_dict(orient='records')\n",
    "addresses = [\", \".join([row.address, row.city, \"NJ\"]) for i, row in df.iterrows()]\n",
    "geocoded_addresses = [geocode(x) for x in addresses]\n",
    "locations = [get_loc(x) for x in geocoded_addresses]\n",
    "\n",
    "home = get_loc(geocode('115 Dumont Ave. Clifton, NJ'))"
   ]
  },
  {
   "cell_type": "code",
   "execution_count": 3,
   "metadata": {
    "scrolled": false
   },
   "outputs": [],
   "source": [
    "m = folium.Map(location=home, zoom_start=12)\n",
    "\n",
    "folium.Marker(home, tooltip=f'<i>115 Dumont Ave. Clifton, NJ</i>', icon=folium.Icon(color='green')).add_to(m)\n",
    "\n",
    "for l, address, location in zip(listings, addresses, locations):\n",
    "    id, rating, comments = l['id'], l['rating'], l['comments']\n",
    "    if str(id).startswith(\"3\"):\n",
    "        url = f\"https://gsmls.herokuapp.com/properties/{id}\"\n",
    "    else:\n",
    "        url = f\"http://www.njmls.com/listings/index.cfm?action=dsp.info&mlsnum={id}\"\n",
    "    comments = '<br/>'.join([html.escape(x) for x in comments.split('\\n')])\n",
    "    popup = f\"\"\"\n",
    "    Address: {address}<br/>\n",
    "    MLS: <a target=\"_blank\" href=\"{url}\">{id}</a><br/>\n",
    "    Rating: {rating}<br/>\n",
    "    Comments:<br/>\n",
    "    {comments}\n",
    "    \"\"\"\n",
    "    folium.Marker(location, popup=f'<i>{popup}</i>', tooltip=f'<i>{address} - {rating}</i>').add_to(m)\n",
    "\n",
    "m.save('map.html')"
   ]
  }
 ],
 "metadata": {
  "kernelspec": {
   "display_name": "Python 3",
   "language": "python",
   "name": "python3"
  },
  "language_info": {
   "codemirror_mode": {
    "name": "ipython",
    "version": 3
   },
   "file_extension": ".py",
   "mimetype": "text/x-python",
   "name": "python",
   "nbconvert_exporter": "python",
   "pygments_lexer": "ipython3",
   "version": "3.6.3"
  }
 },
 "nbformat": 4,
 "nbformat_minor": 2
}
